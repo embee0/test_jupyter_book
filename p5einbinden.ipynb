{
 "cells": [
  {
   "cell_type": "markdown",
   "metadata": {},
   "source": [
    "# P5JS als iframe einbinden\n"
   ]
  },
  {
   "cell_type": "markdown",
   "metadata": {},
   "source": [
    "<b>Hier drunter sollte ein iframe mit Inhalten gezeigt werden:</b>\n",
    "<iframe src=\"test.html\"></iframe>"
   ]
  },
  {
   "cell_type": "markdown",
   "metadata": {},
   "source": [
    "Warum funktioniert das nicht?\n",
    "<iframe style=\"width: 400px; height: 450px; overflow: hidden;\"  scrolling=\"no\" frameborder=\"0\" src=\"sketches/nn_feste_breite/index.html\"></iframe>"
   ]
  },
  {
   "cell_type": "markdown",
   "metadata": {},
   "source": [
    "Aber das schon?\n",
    "<iframe style=\"width: 400px; height: 450px; overflow: hidden;\"  scrolling=\"no\" frameborder=\"0\" src=\"https://editor.p5js.org/micbre/full/EFeYIccs_\"></iframe>"
   ]
  }
 ],
 "metadata": {
  "kernelspec": {
   "display_name": "Python 3",
   "language": "python",
   "name": "python3"
  },
  "language_info": {
   "codemirror_mode": {
    "name": "ipython",
    "version": 3
   },
   "file_extension": ".py",
   "mimetype": "text/x-python",
   "name": "python",
   "nbconvert_exporter": "python",
   "pygments_lexer": "ipython3",
   "version": "3.11.8"
  }
 },
 "nbformat": 4,
 "nbformat_minor": 2
}
